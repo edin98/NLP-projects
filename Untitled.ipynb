{
 "cells": [
  {
   "cell_type": "markdown",
   "id": "c030d58c-1b76-44e0-94dd-cf6d0d2449ad",
   "metadata": {},
   "source": [
    "Okay in this project I will classify a review with 1-5 stars, given the comment the user has left. So its a classification problem, using NLP techniques. The data I will use will be yelp review data set from kaggle."
   ]
  },
  {
   "cell_type": "code",
   "execution_count": 37,
   "id": "00b8fb57-770d-479d-a005-c31b7570ce22",
   "metadata": {},
   "outputs": [],
   "source": [
    "import pandas as pd\n",
    "import matplotlib.pyplot as plt\n",
    "import seaborn as sns\n",
    "\n",
    "%matplotlib inline"
   ]
  },
  {
   "cell_type": "code",
   "execution_count": 16,
   "id": "3db58289-c4db-48c2-878a-b2e44a908ec4",
   "metadata": {
    "scrolled": true
   },
   "outputs": [
    {
     "data": {
      "text/html": [
       "<div>\n",
       "<style scoped>\n",
       "    .dataframe tbody tr th:only-of-type {\n",
       "        vertical-align: middle;\n",
       "    }\n",
       "\n",
       "    .dataframe tbody tr th {\n",
       "        vertical-align: top;\n",
       "    }\n",
       "\n",
       "    .dataframe thead th {\n",
       "        text-align: right;\n",
       "    }\n",
       "</style>\n",
       "<table border=\"1\" class=\"dataframe\">\n",
       "  <thead>\n",
       "    <tr style=\"text-align: right;\">\n",
       "      <th></th>\n",
       "      <th>business_id</th>\n",
       "      <th>date</th>\n",
       "      <th>review_id</th>\n",
       "      <th>stars</th>\n",
       "      <th>text</th>\n",
       "      <th>type</th>\n",
       "      <th>user_id</th>\n",
       "      <th>cool</th>\n",
       "      <th>useful</th>\n",
       "      <th>funny</th>\n",
       "    </tr>\n",
       "  </thead>\n",
       "  <tbody>\n",
       "    <tr>\n",
       "      <th>0</th>\n",
       "      <td>9yKzy9PApeiPPOUJEtnvkg</td>\n",
       "      <td>2011-01-26</td>\n",
       "      <td>fWKvX83p0-ka4JS3dc6E5A</td>\n",
       "      <td>5</td>\n",
       "      <td>My wife took me here on my birthday for breakf...</td>\n",
       "      <td>review</td>\n",
       "      <td>rLtl8ZkDX5vH5nAx9C3q5Q</td>\n",
       "      <td>2</td>\n",
       "      <td>5</td>\n",
       "      <td>0</td>\n",
       "    </tr>\n",
       "    <tr>\n",
       "      <th>1</th>\n",
       "      <td>ZRJwVLyzEJq1VAihDhYiow</td>\n",
       "      <td>2011-07-27</td>\n",
       "      <td>IjZ33sJrzXqU-0X6U8NwyA</td>\n",
       "      <td>5</td>\n",
       "      <td>I have no idea why some people give bad review...</td>\n",
       "      <td>review</td>\n",
       "      <td>0a2KyEL0d3Yb1V6aivbIuQ</td>\n",
       "      <td>0</td>\n",
       "      <td>0</td>\n",
       "      <td>0</td>\n",
       "    </tr>\n",
       "    <tr>\n",
       "      <th>2</th>\n",
       "      <td>6oRAC4uyJCsJl1X0WZpVSA</td>\n",
       "      <td>2012-06-14</td>\n",
       "      <td>IESLBzqUCLdSzSqm0eCSxQ</td>\n",
       "      <td>4</td>\n",
       "      <td>love the gyro plate. Rice is so good and I als...</td>\n",
       "      <td>review</td>\n",
       "      <td>0hT2KtfLiobPvh6cDC8JQg</td>\n",
       "      <td>0</td>\n",
       "      <td>1</td>\n",
       "      <td>0</td>\n",
       "    </tr>\n",
       "    <tr>\n",
       "      <th>3</th>\n",
       "      <td>_1QQZuf4zZOyFCvXc0o6Vg</td>\n",
       "      <td>2010-05-27</td>\n",
       "      <td>G-WvGaISbqqaMHlNnByodA</td>\n",
       "      <td>5</td>\n",
       "      <td>Rosie, Dakota, and I LOVE Chaparral Dog Park!!...</td>\n",
       "      <td>review</td>\n",
       "      <td>uZetl9T0NcROGOyFfughhg</td>\n",
       "      <td>1</td>\n",
       "      <td>2</td>\n",
       "      <td>0</td>\n",
       "    </tr>\n",
       "    <tr>\n",
       "      <th>4</th>\n",
       "      <td>6ozycU1RpktNG2-1BroVtw</td>\n",
       "      <td>2012-01-05</td>\n",
       "      <td>1uJFq2r5QfJG_6ExMRCaGw</td>\n",
       "      <td>5</td>\n",
       "      <td>General Manager Scott Petello is a good egg!!!...</td>\n",
       "      <td>review</td>\n",
       "      <td>vYmM4KTsC8ZfQBg-j5MWkw</td>\n",
       "      <td>0</td>\n",
       "      <td>0</td>\n",
       "      <td>0</td>\n",
       "    </tr>\n",
       "    <tr>\n",
       "      <th>...</th>\n",
       "      <td>...</td>\n",
       "      <td>...</td>\n",
       "      <td>...</td>\n",
       "      <td>...</td>\n",
       "      <td>...</td>\n",
       "      <td>...</td>\n",
       "      <td>...</td>\n",
       "      <td>...</td>\n",
       "      <td>...</td>\n",
       "      <td>...</td>\n",
       "    </tr>\n",
       "    <tr>\n",
       "      <th>9995</th>\n",
       "      <td>VY_tvNUCCXGXQeSvJl757Q</td>\n",
       "      <td>2012-07-28</td>\n",
       "      <td>Ubyfp2RSDYW0g7Mbr8N3iA</td>\n",
       "      <td>3</td>\n",
       "      <td>First visit...Had lunch here today - used my G...</td>\n",
       "      <td>review</td>\n",
       "      <td>_eqQoPtQ3e3UxLE4faT6ow</td>\n",
       "      <td>1</td>\n",
       "      <td>2</td>\n",
       "      <td>0</td>\n",
       "    </tr>\n",
       "    <tr>\n",
       "      <th>9996</th>\n",
       "      <td>EKzMHI1tip8rC1-ZAy64yg</td>\n",
       "      <td>2012-01-18</td>\n",
       "      <td>2XyIOQKbVFb6uXQdJ0RzlQ</td>\n",
       "      <td>4</td>\n",
       "      <td>Should be called house of deliciousness!\\n\\nI ...</td>\n",
       "      <td>review</td>\n",
       "      <td>ROru4uk5SaYc3rg8IU7SQw</td>\n",
       "      <td>0</td>\n",
       "      <td>0</td>\n",
       "      <td>0</td>\n",
       "    </tr>\n",
       "    <tr>\n",
       "      <th>9997</th>\n",
       "      <td>53YGfwmbW73JhFiemNeyzQ</td>\n",
       "      <td>2010-11-16</td>\n",
       "      <td>jyznYkIbpqVmlsZxSDSypA</td>\n",
       "      <td>4</td>\n",
       "      <td>I recently visited Olive and Ivy for business ...</td>\n",
       "      <td>review</td>\n",
       "      <td>gGbN1aKQHMgfQZkqlsuwzg</td>\n",
       "      <td>0</td>\n",
       "      <td>0</td>\n",
       "      <td>0</td>\n",
       "    </tr>\n",
       "    <tr>\n",
       "      <th>9998</th>\n",
       "      <td>9SKdOoDHcFoxK5ZtsgHJoA</td>\n",
       "      <td>2012-12-02</td>\n",
       "      <td>5UKq9WQE1qQbJ0DJbc-B6Q</td>\n",
       "      <td>2</td>\n",
       "      <td>My nephew just moved to Scottsdale recently so...</td>\n",
       "      <td>review</td>\n",
       "      <td>0lyVoNazXa20WzUyZPLaQQ</td>\n",
       "      <td>0</td>\n",
       "      <td>0</td>\n",
       "      <td>0</td>\n",
       "    </tr>\n",
       "    <tr>\n",
       "      <th>9999</th>\n",
       "      <td>pF7uRzygyZsltbmVpjIyvw</td>\n",
       "      <td>2010-10-16</td>\n",
       "      <td>vWSmOhg2ID1MNZHaWapGbA</td>\n",
       "      <td>5</td>\n",
       "      <td>4-5 locations.. all 4.5 star average.. I think...</td>\n",
       "      <td>review</td>\n",
       "      <td>KSBFytcdjPKZgXKQnYQdkA</td>\n",
       "      <td>0</td>\n",
       "      <td>0</td>\n",
       "      <td>0</td>\n",
       "    </tr>\n",
       "  </tbody>\n",
       "</table>\n",
       "<p>10000 rows × 10 columns</p>\n",
       "</div>"
      ],
      "text/plain": [
       "                 business_id        date               review_id  stars  \\\n",
       "0     9yKzy9PApeiPPOUJEtnvkg  2011-01-26  fWKvX83p0-ka4JS3dc6E5A      5   \n",
       "1     ZRJwVLyzEJq1VAihDhYiow  2011-07-27  IjZ33sJrzXqU-0X6U8NwyA      5   \n",
       "2     6oRAC4uyJCsJl1X0WZpVSA  2012-06-14  IESLBzqUCLdSzSqm0eCSxQ      4   \n",
       "3     _1QQZuf4zZOyFCvXc0o6Vg  2010-05-27  G-WvGaISbqqaMHlNnByodA      5   \n",
       "4     6ozycU1RpktNG2-1BroVtw  2012-01-05  1uJFq2r5QfJG_6ExMRCaGw      5   \n",
       "...                      ...         ...                     ...    ...   \n",
       "9995  VY_tvNUCCXGXQeSvJl757Q  2012-07-28  Ubyfp2RSDYW0g7Mbr8N3iA      3   \n",
       "9996  EKzMHI1tip8rC1-ZAy64yg  2012-01-18  2XyIOQKbVFb6uXQdJ0RzlQ      4   \n",
       "9997  53YGfwmbW73JhFiemNeyzQ  2010-11-16  jyznYkIbpqVmlsZxSDSypA      4   \n",
       "9998  9SKdOoDHcFoxK5ZtsgHJoA  2012-12-02  5UKq9WQE1qQbJ0DJbc-B6Q      2   \n",
       "9999  pF7uRzygyZsltbmVpjIyvw  2010-10-16  vWSmOhg2ID1MNZHaWapGbA      5   \n",
       "\n",
       "                                                   text    type  \\\n",
       "0     My wife took me here on my birthday for breakf...  review   \n",
       "1     I have no idea why some people give bad review...  review   \n",
       "2     love the gyro plate. Rice is so good and I als...  review   \n",
       "3     Rosie, Dakota, and I LOVE Chaparral Dog Park!!...  review   \n",
       "4     General Manager Scott Petello is a good egg!!!...  review   \n",
       "...                                                 ...     ...   \n",
       "9995  First visit...Had lunch here today - used my G...  review   \n",
       "9996  Should be called house of deliciousness!\\n\\nI ...  review   \n",
       "9997  I recently visited Olive and Ivy for business ...  review   \n",
       "9998  My nephew just moved to Scottsdale recently so...  review   \n",
       "9999  4-5 locations.. all 4.5 star average.. I think...  review   \n",
       "\n",
       "                     user_id  cool  useful  funny  \n",
       "0     rLtl8ZkDX5vH5nAx9C3q5Q     2       5      0  \n",
       "1     0a2KyEL0d3Yb1V6aivbIuQ     0       0      0  \n",
       "2     0hT2KtfLiobPvh6cDC8JQg     0       1      0  \n",
       "3     uZetl9T0NcROGOyFfughhg     1       2      0  \n",
       "4     vYmM4KTsC8ZfQBg-j5MWkw     0       0      0  \n",
       "...                      ...   ...     ...    ...  \n",
       "9995  _eqQoPtQ3e3UxLE4faT6ow     1       2      0  \n",
       "9996  ROru4uk5SaYc3rg8IU7SQw     0       0      0  \n",
       "9997  gGbN1aKQHMgfQZkqlsuwzg     0       0      0  \n",
       "9998  0lyVoNazXa20WzUyZPLaQQ     0       0      0  \n",
       "9999  KSBFytcdjPKZgXKQnYQdkA     0       0      0  \n",
       "\n",
       "[10000 rows x 10 columns]"
      ]
     },
     "execution_count": 16,
     "metadata": {},
     "output_type": "execute_result"
    }
   ],
   "source": [
    "yelp_df = pd.read_csv('yelp.csv')\n",
    "yelp_df"
   ]
  },
  {
   "cell_type": "code",
   "execution_count": 23,
   "id": "7465f89c-fcb2-4936-9ded-d11fc68cac8b",
   "metadata": {},
   "outputs": [
    {
     "data": {
      "text/html": [
       "<div>\n",
       "<style scoped>\n",
       "    .dataframe tbody tr th:only-of-type {\n",
       "        vertical-align: middle;\n",
       "    }\n",
       "\n",
       "    .dataframe tbody tr th {\n",
       "        vertical-align: top;\n",
       "    }\n",
       "\n",
       "    .dataframe thead th {\n",
       "        text-align: right;\n",
       "    }\n",
       "</style>\n",
       "<table border=\"1\" class=\"dataframe\">\n",
       "  <thead>\n",
       "    <tr style=\"text-align: right;\">\n",
       "      <th></th>\n",
       "      <th>text</th>\n",
       "      <th>stars</th>\n",
       "    </tr>\n",
       "  </thead>\n",
       "  <tbody>\n",
       "    <tr>\n",
       "      <th>0</th>\n",
       "      <td>My wife took me here on my birthday for breakf...</td>\n",
       "      <td>5</td>\n",
       "    </tr>\n",
       "    <tr>\n",
       "      <th>1</th>\n",
       "      <td>I have no idea why some people give bad review...</td>\n",
       "      <td>5</td>\n",
       "    </tr>\n",
       "    <tr>\n",
       "      <th>2</th>\n",
       "      <td>love the gyro plate. Rice is so good and I als...</td>\n",
       "      <td>4</td>\n",
       "    </tr>\n",
       "    <tr>\n",
       "      <th>3</th>\n",
       "      <td>Rosie, Dakota, and I LOVE Chaparral Dog Park!!...</td>\n",
       "      <td>5</td>\n",
       "    </tr>\n",
       "    <tr>\n",
       "      <th>4</th>\n",
       "      <td>General Manager Scott Petello is a good egg!!!...</td>\n",
       "      <td>5</td>\n",
       "    </tr>\n",
       "    <tr>\n",
       "      <th>...</th>\n",
       "      <td>...</td>\n",
       "      <td>...</td>\n",
       "    </tr>\n",
       "    <tr>\n",
       "      <th>9995</th>\n",
       "      <td>First visit...Had lunch here today - used my G...</td>\n",
       "      <td>3</td>\n",
       "    </tr>\n",
       "    <tr>\n",
       "      <th>9996</th>\n",
       "      <td>Should be called house of deliciousness!\\n\\nI ...</td>\n",
       "      <td>4</td>\n",
       "    </tr>\n",
       "    <tr>\n",
       "      <th>9997</th>\n",
       "      <td>I recently visited Olive and Ivy for business ...</td>\n",
       "      <td>4</td>\n",
       "    </tr>\n",
       "    <tr>\n",
       "      <th>9998</th>\n",
       "      <td>My nephew just moved to Scottsdale recently so...</td>\n",
       "      <td>2</td>\n",
       "    </tr>\n",
       "    <tr>\n",
       "      <th>9999</th>\n",
       "      <td>4-5 locations.. all 4.5 star average.. I think...</td>\n",
       "      <td>5</td>\n",
       "    </tr>\n",
       "  </tbody>\n",
       "</table>\n",
       "<p>10000 rows × 2 columns</p>\n",
       "</div>"
      ],
      "text/plain": [
       "                                                   text  stars\n",
       "0     My wife took me here on my birthday for breakf...      5\n",
       "1     I have no idea why some people give bad review...      5\n",
       "2     love the gyro plate. Rice is so good and I als...      4\n",
       "3     Rosie, Dakota, and I LOVE Chaparral Dog Park!!...      5\n",
       "4     General Manager Scott Petello is a good egg!!!...      5\n",
       "...                                                 ...    ...\n",
       "9995  First visit...Had lunch here today - used my G...      3\n",
       "9996  Should be called house of deliciousness!\\n\\nI ...      4\n",
       "9997  I recently visited Olive and Ivy for business ...      4\n",
       "9998  My nephew just moved to Scottsdale recently so...      2\n",
       "9999  4-5 locations.. all 4.5 star average.. I think...      5\n",
       "\n",
       "[10000 rows x 2 columns]"
      ]
     },
     "execution_count": 23,
     "metadata": {},
     "output_type": "execute_result"
    }
   ],
   "source": [
    "yelp_df = yelp_df[['text', 'stars']]\n",
    "yelp_df"
   ]
  },
  {
   "cell_type": "code",
   "execution_count": 36,
   "id": "1cd4e834-d42a-424b-a810-87b66ac5d426",
   "metadata": {},
   "outputs": [
    {
     "data": {
      "text/html": [
       "<div>\n",
       "<style scoped>\n",
       "    .dataframe tbody tr th:only-of-type {\n",
       "        vertical-align: middle;\n",
       "    }\n",
       "\n",
       "    .dataframe tbody tr th {\n",
       "        vertical-align: top;\n",
       "    }\n",
       "\n",
       "    .dataframe thead tr th {\n",
       "        text-align: left;\n",
       "    }\n",
       "\n",
       "    .dataframe thead tr:last-of-type th {\n",
       "        text-align: right;\n",
       "    }\n",
       "</style>\n",
       "<table border=\"1\" class=\"dataframe\">\n",
       "  <thead>\n",
       "    <tr>\n",
       "      <th></th>\n",
       "      <th colspan=\"4\" halign=\"left\">text</th>\n",
       "    </tr>\n",
       "    <tr>\n",
       "      <th></th>\n",
       "      <th>count</th>\n",
       "      <th>unique</th>\n",
       "      <th>top</th>\n",
       "      <th>freq</th>\n",
       "    </tr>\n",
       "    <tr>\n",
       "      <th>stars</th>\n",
       "      <th></th>\n",
       "      <th></th>\n",
       "      <th></th>\n",
       "      <th></th>\n",
       "    </tr>\n",
       "  </thead>\n",
       "  <tbody>\n",
       "    <tr>\n",
       "      <th>1</th>\n",
       "      <td>749</td>\n",
       "      <td>749</td>\n",
       "      <td>U can go there n check the car out. If u wanna...</td>\n",
       "      <td>1</td>\n",
       "    </tr>\n",
       "    <tr>\n",
       "      <th>2</th>\n",
       "      <td>927</td>\n",
       "      <td>926</td>\n",
       "      <td>This review is for the chain in general. The l...</td>\n",
       "      <td>2</td>\n",
       "    </tr>\n",
       "    <tr>\n",
       "      <th>3</th>\n",
       "      <td>1461</td>\n",
       "      <td>1461</td>\n",
       "      <td>We went here on a Saturday afternoon and this ...</td>\n",
       "      <td>1</td>\n",
       "    </tr>\n",
       "    <tr>\n",
       "      <th>4</th>\n",
       "      <td>3526</td>\n",
       "      <td>3526</td>\n",
       "      <td>love the gyro plate. Rice is so good and I als...</td>\n",
       "      <td>1</td>\n",
       "    </tr>\n",
       "    <tr>\n",
       "      <th>5</th>\n",
       "      <td>3337</td>\n",
       "      <td>3336</td>\n",
       "      <td>Great service</td>\n",
       "      <td>2</td>\n",
       "    </tr>\n",
       "  </tbody>\n",
       "</table>\n",
       "</div>"
      ],
      "text/plain": [
       "       text                                                               \n",
       "      count unique                                                top freq\n",
       "stars                                                                     \n",
       "1       749    749  U can go there n check the car out. If u wanna...    1\n",
       "2       927    926  This review is for the chain in general. The l...    2\n",
       "3      1461   1461  We went here on a Saturday afternoon and this ...    1\n",
       "4      3526   3526  love the gyro plate. Rice is so good and I als...    1\n",
       "5      3337   3336                                      Great service    2"
      ]
     },
     "execution_count": 36,
     "metadata": {},
     "output_type": "execute_result"
    }
   ],
   "source": [
    "yelp_df.groupby('stars').describe()"
   ]
  },
  {
   "cell_type": "code",
   "execution_count": 39,
   "id": "41ed5938-27e9-4b54-9246-3564fb814fc6",
   "metadata": {},
   "outputs": [
    {
     "name": "stderr",
     "output_type": "stream",
     "text": [
      "/var/folders/hj/q5jr6s8s50g6rgdb0hlcrzgw0000gn/T/ipykernel_54478/4145072969.py:1: SettingWithCopyWarning: \n",
      "A value is trying to be set on a copy of a slice from a DataFrame.\n",
      "Try using .loc[row_indexer,col_indexer] = value instead\n",
      "\n",
      "See the caveats in the documentation: https://pandas.pydata.org/pandas-docs/stable/user_guide/indexing.html#returning-a-view-versus-a-copy\n",
      "  yelp_df['length'] = yelp_df['text'].apply(len)\n"
     ]
    },
    {
     "data": {
      "text/html": [
       "<div>\n",
       "<style scoped>\n",
       "    .dataframe tbody tr th:only-of-type {\n",
       "        vertical-align: middle;\n",
       "    }\n",
       "\n",
       "    .dataframe tbody tr th {\n",
       "        vertical-align: top;\n",
       "    }\n",
       "\n",
       "    .dataframe thead th {\n",
       "        text-align: right;\n",
       "    }\n",
       "</style>\n",
       "<table border=\"1\" class=\"dataframe\">\n",
       "  <thead>\n",
       "    <tr style=\"text-align: right;\">\n",
       "      <th></th>\n",
       "      <th>text</th>\n",
       "      <th>stars</th>\n",
       "      <th>length</th>\n",
       "    </tr>\n",
       "  </thead>\n",
       "  <tbody>\n",
       "    <tr>\n",
       "      <th>0</th>\n",
       "      <td>My wife took me here on my birthday for breakf...</td>\n",
       "      <td>5</td>\n",
       "      <td>889</td>\n",
       "    </tr>\n",
       "    <tr>\n",
       "      <th>1</th>\n",
       "      <td>I have no idea why some people give bad review...</td>\n",
       "      <td>5</td>\n",
       "      <td>1345</td>\n",
       "    </tr>\n",
       "    <tr>\n",
       "      <th>2</th>\n",
       "      <td>love the gyro plate. Rice is so good and I als...</td>\n",
       "      <td>4</td>\n",
       "      <td>76</td>\n",
       "    </tr>\n",
       "    <tr>\n",
       "      <th>3</th>\n",
       "      <td>Rosie, Dakota, and I LOVE Chaparral Dog Park!!...</td>\n",
       "      <td>5</td>\n",
       "      <td>419</td>\n",
       "    </tr>\n",
       "    <tr>\n",
       "      <th>4</th>\n",
       "      <td>General Manager Scott Petello is a good egg!!!...</td>\n",
       "      <td>5</td>\n",
       "      <td>469</td>\n",
       "    </tr>\n",
       "    <tr>\n",
       "      <th>...</th>\n",
       "      <td>...</td>\n",
       "      <td>...</td>\n",
       "      <td>...</td>\n",
       "    </tr>\n",
       "    <tr>\n",
       "      <th>9995</th>\n",
       "      <td>First visit...Had lunch here today - used my G...</td>\n",
       "      <td>3</td>\n",
       "      <td>668</td>\n",
       "    </tr>\n",
       "    <tr>\n",
       "      <th>9996</th>\n",
       "      <td>Should be called house of deliciousness!\\n\\nI ...</td>\n",
       "      <td>4</td>\n",
       "      <td>881</td>\n",
       "    </tr>\n",
       "    <tr>\n",
       "      <th>9997</th>\n",
       "      <td>I recently visited Olive and Ivy for business ...</td>\n",
       "      <td>4</td>\n",
       "      <td>1425</td>\n",
       "    </tr>\n",
       "    <tr>\n",
       "      <th>9998</th>\n",
       "      <td>My nephew just moved to Scottsdale recently so...</td>\n",
       "      <td>2</td>\n",
       "      <td>880</td>\n",
       "    </tr>\n",
       "    <tr>\n",
       "      <th>9999</th>\n",
       "      <td>4-5 locations.. all 4.5 star average.. I think...</td>\n",
       "      <td>5</td>\n",
       "      <td>461</td>\n",
       "    </tr>\n",
       "  </tbody>\n",
       "</table>\n",
       "<p>10000 rows × 3 columns</p>\n",
       "</div>"
      ],
      "text/plain": [
       "                                                   text  stars  length\n",
       "0     My wife took me here on my birthday for breakf...      5     889\n",
       "1     I have no idea why some people give bad review...      5    1345\n",
       "2     love the gyro plate. Rice is so good and I als...      4      76\n",
       "3     Rosie, Dakota, and I LOVE Chaparral Dog Park!!...      5     419\n",
       "4     General Manager Scott Petello is a good egg!!!...      5     469\n",
       "...                                                 ...    ...     ...\n",
       "9995  First visit...Had lunch here today - used my G...      3     668\n",
       "9996  Should be called house of deliciousness!\\n\\nI ...      4     881\n",
       "9997  I recently visited Olive and Ivy for business ...      4    1425\n",
       "9998  My nephew just moved to Scottsdale recently so...      2     880\n",
       "9999  4-5 locations.. all 4.5 star average.. I think...      5     461\n",
       "\n",
       "[10000 rows x 3 columns]"
      ]
     },
     "execution_count": 39,
     "metadata": {},
     "output_type": "execute_result"
    }
   ],
   "source": [
    "yelp_df['length'] = yelp_df['text'].apply(len)\n",
    "yelp_df"
   ]
  },
  {
   "cell_type": "code",
   "execution_count": 43,
   "id": "af59f547-de3d-423d-97fd-cc88022e83dd",
   "metadata": {},
   "outputs": [
    {
     "data": {
      "text/plain": [
       "4997"
      ]
     },
     "execution_count": 43,
     "metadata": {},
     "output_type": "execute_result"
    }
   ],
   "source": [
    "yelp_df['length'].max()"
   ]
  },
  {
   "cell_type": "code",
   "execution_count": 55,
   "id": "bcca7771-1ecc-4a68-a211-367fbf45327b",
   "metadata": {
    "scrolled": true
   },
   "outputs": [
    {
     "data": {
      "text/plain": [
       "'In our continuing quest to identify cool, locally owned places to eat and/or drink, Caroline and I auditioned Vintage 95 last night. \\n\\nBefore I go further, understand that whenever I go out for eats or drinks, I have  in  mind a Platonic Ideal of the Bar/Pub/Eatery I most want to frequent. I\\'m on a constant quest to find that  Ideal expressed in Real Life. \\n\\nVintage 95 isn\\'t quite there, but it\\'s damn close. If I ever give something Five Stars, you\\'ll know it has pegged my Platonic Ideal. Anyway...\\n\\nThe plan last night was for drinks. No plans for food, just Adult Beverages and warm conversation. But it turned into more.\\n\\nThe location in downtown Chandler is terrific for us. The owners have created a very fine visual experience - leather, stone, dark woods, good lighting. And they don\\'t have the music turned up so loud that you CANNOT HAVE A CONVERSATION. This is one of my pet peeves. If I want to stare at people move their mouths while enduring an aural assault, I\\'ll stand on the deck of an aircraft carrier. When I go out with friends, I want to enjoy their company AND their conversation. Is that concept so difficult to grasp? [/rant off]\\n\\nThe atmosphere at Vintage 95 is very close to my Ideal. I\\'d go back just to sit on the leather couches in front of the fireplace, and then go back another time to sit on the leather stools at the bar, and then go back about fourteen more times to sit out on the patio. Seriously - go check out the patio. It is EXACTLY what a Patio Hangout Bar should be. EXACTLY.\\n\\nCaroline and I told the hostesses we were only there for drinks, so we were seated in the bar area in some fabulous leather club chairs. It wasn\\'t initmate, but we weren\\'t looking for intimate. And speaking of the bar, even though V95 advertises itself as a wine bar, they DO have booze. I\\'m not much of a wine drinker and was very pleased to see that they carried a pretty good selection of single malt scotches. Not an overwhelming selection, but well beyond the normal Glenfiddich /Glenlivit /GlenMorangie trio to which most places are limited. I had a couple of drums of Ardbeg, which is one of my new favorites and very reasonably priced at retail. (Scotch is never reasonably priced in restaurants, but I was celebrating so I didn\\'t care.) Caroline had her normal \"vodka martini extra dirty extra cold\" which she judged to have \"perfect dirtiness\", (no wonder I love her!), perfect amount of olives and very cold. \\n\\nThe limited Happy Hour menu had some very interesting choices. We settled on the bruschetta and the smoked tomato bisque. The bruschetta was VERY nice and quite unusual. You get to select four of eight choices for your bruschetta platter; we picked: (1) white bean and pancetta, (2) gravlax, caper goat cheese and pickled onions, (3) fig chutney, ricotta and prosciutto, (4) brie, pear and onion jam. They were all served cold, in nice sized portions and the flavors were all nicely balanced and very interesting. Caroline would have preferred the bread to not be so crispy, but I really liked it. The tomato bisque  was creamy, smoky and had well-balanced flavor. Caroline said it was unique and I say it was just darn delicious. \\n\\nThings being as they are, drinks and appetizers turned into food. A friend had told us \"you have to try the Vintage burger\", so we did. It came served with a mixture of regular and sweet potato fries, all nicely cooked and nicely seasoned. Recommended. The burger was VERY tasty. They obviously use good beef, the bun was fresh, the fixin\\'s were tasty. HIGHLY recommended.\\n\\nIn for a dime, in for a dollar, right? So we ordered dessert. Again, the dessert menu is short, but I\\'m okay with that as long as they do it well. Chocolate torte with hazelnut gelato, apple pie with carmel sauce and creme fraiche gelato, and something else we couldn\\'t remember. I\\'m allergic to hazelnut and don\\'t like sweet desserts, so we decided to try the apple pie.\\n\\nLike everything else we had sampled, the apple pie was unusual - you wouldn\\'t find it anywhere else. It was served on a freshly baked puff pastry, cubed apples served on top and inside - tender but not mushy -  with lots of cinnamon and sugar, plate was swirled with salted dolce la leche. It was tasty, but instead of the expected creme fraiche gelato, we were served hazelnut gelato. I didn\\'t realize it was hazelnut until I\\'d had a couple of bites and my throat started to swell up.\\n\\nAt this point that the night could have turned into a disaster, but to their credit - it didn\\'t. We told the waiter who told the manager, (Gavin - one of the owners), who immediately came and asked if I needed emergency assistance. I didn\\'t, I\\'m not THAT allergic.)  Frankly, their response was EXACTLY the kind of customer service you want to see. Anyone can make a mistake, so no harm, no foul. But I must give BIG Kudos to Gavin for his kindness, attention to detail and outstanding customer service.\\n\\nWe will DEFINTELY be back and I strongly recommend you put it on your list too.'"
      ]
     },
     "execution_count": 55,
     "metadata": {},
     "output_type": "execute_result"
    }
   ],
   "source": [
    "#The biggest comment has four stars\n",
    "yelp_df.loc[yelp_df['length']==4997]['text'].iloc[0]"
   ]
  },
  {
   "cell_type": "code",
   "execution_count": 42,
   "id": "af31072c-589a-4f53-8413-91b45d734998",
   "metadata": {},
   "outputs": [
    {
     "data": {
      "text/plain": [
       "array([[<Axes: title={'center': '1'}>, <Axes: title={'center': '2'}>],\n",
       "       [<Axes: title={'center': '3'}>, <Axes: title={'center': '4'}>],\n",
       "       [<Axes: title={'center': '5'}>, <Axes: >]], dtype=object)"
      ]
     },
     "execution_count": 42,
     "metadata": {},
     "output_type": "execute_result"
    },
    {
     "data": {
      "image/png": "[encoded data removed]",
      "text/plain": [
       "<Figure size 640x480 with 6 Axes>"
      ]
     },
     "metadata": {},
     "output_type": "display_data"
    }
   ],
   "source": [
    "yelp_df.hist(column='length', by='stars', bins=50)"
   ]
  },
  {
   "cell_type": "markdown",
   "id": "022a2927-0b83-44e9-a0f9-90c9c7b2ae8b",
   "metadata": {},
   "source": [
    "Now I will do the data **pre-processing** to be able to use nlp techniques. I will simply create a function that cleans the data"
   ]
  },
  {
   "cell_type": "code",
   "execution_count": 68,
   "id": "117ff51a-716d-4b67-906f-18aac0fd1dca",
   "metadata": {},
   "outputs": [
    {
     "name": "stderr",
     "output_type": "stream",
     "text": [
      "[nltk_data] Downloading package stopwords to\n",
      "[nltk_data]     /Users/edinsonjimenezarita/nltk_data...\n",
      "[nltk_data]   Package stopwords is already up-to-date!\n"
     ]
    },
    {
     "data": {
      "text/plain": [
       "True"
      ]
     },
     "execution_count": 68,
     "metadata": {},
     "output_type": "execute_result"
    }
   ],
   "source": [
    "import nltk\n",
    "from nltk.corpus import stopwords\n",
    "nltk.download('stopwords')"
   ]
  },
  {
   "cell_type": "code",
   "execution_count": 69,
   "id": "143809db-b7e9-424b-8d6b-9b3ec0b2815d",
   "metadata": {},
   "outputs": [],
   "source": [
    "#Note the input has to be a string value\n",
    "import string\n",
    "def text_process(mess):\n",
    "    \"\"\"\n",
    "    Takes in a string of text, then performs the following:\n",
    "    1. Remove all punctuation\n",
    "    2. Remove all stopwords\n",
    "    3. Returns a list of the cleaned text\n",
    "    \"\"\"\n",
    "    # Check characters to see if they are in punctuation\n",
    "    nopunc = [char for char in mess if char not in string.punctuation]\n",
    "\n",
    "    # Join the characters again to form the string.\n",
    "    nopunc = ''.join(nopunc)\n",
    "    \n",
    "    # Now just remove any stopwords\n",
    "    return [word for word in nopunc.split() if word.lower() not in stopwords.words('english')]"
   ]
  },
  {
   "cell_type": "code",
   "execution_count": 71,
   "id": "d0d883d5-7aaa-4fab-825b-da77b80f635c",
   "metadata": {},
   "outputs": [
    {
     "data": {
      "text/plain": [
       "0    [wife, took, birthday, breakfast, excellent, w...\n",
       "1    [idea, people, give, bad, reviews, place, goes...\n",
       "2    [love, gyro, plate, Rice, good, also, dig, can...\n",
       "3    [Rosie, Dakota, LOVE, Chaparral, Dog, Park, co...\n",
       "4    [General, Manager, Scott, Petello, good, egg, ...\n",
       "Name: text, dtype: object"
      ]
     },
     "execution_count": 71,
     "metadata": {},
     "output_type": "execute_result"
    }
   ],
   "source": [
    "#Nice it works! Pre-processing complete!\n",
    "yelp_df['text'].head(5).apply(text_process)"
   ]
  },
  {
   "cell_type": "markdown",
   "id": "e3d5555b-7cf1-46f3-9b09-7bc567994bbb",
   "metadata": {},
   "source": [
    "**Vectorization**\n",
    "\n",
    "Okay, now I will go through the vectorization part of NLP. In this project I will not do stemming or part of speech. So practically, I will create a parse matrix that will have every unique work in the index (words of all the text of all the reviews), and every review on the column index. The values in matrix is the number of times every work appeared in given review. \n",
    "\n",
    "For example:\n",
    "\n",
    "<table border = “1“>\n",
    "<tr>\n",
    "<th></th> <th>Message 1</th> <th>Message 2</th> <th>...</th> <th>Message N</th> \n",
    "</tr>\n",
    "<tr>\n",
    "<td><b>Word 1 Count</b></td><td>0</td><td>1</td><td>...</td><td>0</td>\n",
    "</tr>\n",
    "<tr>\n",
    "<td><b>Word 2 Count</b></td><td>0</td><td>0</td><td>...</td><td>0</td>\n",
    "</tr>\n",
    "<tr>\n",
    "<td><b>...</b></td> <td>1</td><td>2</td><td>...</td><td>0</td>\n",
    "</tr>\n",
    "<tr>\n",
    "<td><b>Word N Count</b></td> <td>0</td><td>1</td><td>...</td><td>1</td>\n",
    "</tr>\n",
    "</table>\n"
   ]
  },
  {
   "cell_type": "markdown",
   "id": "d9109efc-6c2a-4c0a-a70a-74ec8a8e24a4",
   "metadata": {},
   "source": [
    "The point of having every review as a list of tokens (lemmas), is to be able to input it in a model so we can use machine learning techniques. So practically, every review (column), has N rows (Tokens / unique words), and the value of every point in that vector/lemma, is the amount of times that token was used in the review. "
   ]
  },
  {
   "cell_type": "code",
   "execution_count": 72,
   "id": "5823ed48-34ef-4984-bf67-eb2599466105",
   "metadata": {},
   "outputs": [],
   "source": [
    "from sklearn.feature_extraction.text import CountVectorizer"
   ]
  },
  {
   "cell_type": "code",
   "execution_count": 73,
   "id": "df546a94-87a0-4137-aa47-2446776395c7",
   "metadata": {},
   "outputs": [
    {
     "data": {
      "text/html": [
       "<style>#sk-container-id-1 {color: black;background-color: white;}#sk-container-id-1 pre{padding: 0;}#sk-container-id-1 div.sk-toggleable {background-color: white;}#sk-container-id-1 label.sk-toggleable__label {cursor: pointer;display: block;width: 100%;margin-bottom: 0;padding: 0.3em;box-sizing: border-box;text-align: center;}#sk-container-id-1 label.sk-toggleable__label-arrow:before {content: \"▸\";float: left;margin-right: 0.25em;color: #696969;}#sk-container-id-1 label.sk-toggleable__label-arrow:hover:before {color: black;}#sk-container-id-1 div.sk-estimator:hover label.sk-toggleable__label-arrow:before {color: black;}#sk-container-id-1 div.sk-toggleable__content {max-height: 0;max-width: 0;overflow: hidden;text-align: left;background-color: #f0f8ff;}#sk-container-id-1 div.sk-toggleable__content pre {margin: 0.2em;color: black;border-radius: 0.25em;background-color: #f0f8ff;}#sk-container-id-1 input.sk-toggleable__control:checked~div.sk-toggleable__content {max-height: 200px;max-width: 100%;overflow: auto;}#sk-container-id-1 input.sk-toggleable__control:checked~label.sk-toggleable__label-arrow:before {content: \"▾\";}#sk-container-id-1 div.sk-estimator input.sk-toggleable__control:checked~label.sk-toggleable__label {background-color: #d4ebff;}#sk-container-id-1 div.sk-label input.sk-toggleable__control:checked~label.sk-toggleable__label {background-color: #d4ebff;}#sk-container-id-1 input.sk-hidden--visually {border: 0;clip: rect(1px 1px 1px 1px);clip: rect(1px, 1px, 1px, 1px);height: 1px;margin: -1px;overflow: hidden;padding: 0;position: absolute;width: 1px;}#sk-container-id-1 div.sk-estimator {font-family: monospace;background-color: #f0f8ff;border: 1px dotted black;border-radius: 0.25em;box-sizing: border-box;margin-bottom: 0.5em;}#sk-container-id-1 div.sk-estimator:hover {background-color: #d4ebff;}#sk-container-id-1 div.sk-parallel-item::after {content: \"\";width: 100%;border-bottom: 1px solid gray;flex-grow: 1;}#sk-container-id-1 div.sk-label:hover label.sk-toggleable__label {background-color: #d4ebff;}#sk-container-id-1 div.sk-serial::before {content: \"\";position: absolute;border-left: 1px solid gray;box-sizing: border-box;top: 0;bottom: 0;left: 50%;z-index: 0;}#sk-container-id-1 div.sk-serial {display: flex;flex-direction: column;align-items: center;background-color: white;padding-right: 0.2em;padding-left: 0.2em;position: relative;}#sk-container-id-1 div.sk-item {position: relative;z-index: 1;}#sk-container-id-1 div.sk-parallel {display: flex;align-items: stretch;justify-content: center;background-color: white;position: relative;}#sk-container-id-1 div.sk-item::before, #sk-container-id-1 div.sk-parallel-item::before {content: \"\";position: absolute;border-left: 1px solid gray;box-sizing: border-box;top: 0;bottom: 0;left: 50%;z-index: -1;}#sk-container-id-1 div.sk-parallel-item {display: flex;flex-direction: column;z-index: 1;position: relative;background-color: white;}#sk-container-id-1 div.sk-parallel-item:first-child::after {align-self: flex-end;width: 50%;}#sk-container-id-1 div.sk-parallel-item:last-child::after {align-self: flex-start;width: 50%;}#sk-container-id-1 div.sk-parallel-item:only-child::after {width: 0;}#sk-container-id-1 div.sk-dashed-wrapped {border: 1px dashed gray;margin: 0 0.4em 0.5em 0.4em;box-sizing: border-box;padding-bottom: 0.4em;background-color: white;}#sk-container-id-1 div.sk-label label {font-family: monospace;font-weight: bold;display: inline-block;line-height: 1.2em;}#sk-container-id-1 div.sk-label-container {text-align: center;}#sk-container-id-1 div.sk-container {/* jupyter's `normalize.less` sets `[hidden] { display: none; }` but bootstrap.min.css set `[hidden] { display: none !important; }` so we also need the `!important` here to be able to override the default hidden behavior on the sphinx rendered scikit-learn.org. See: https://github.com/scikit-learn/scikit-learn/issues/21755 */display: inline-block !important;position: relative;}#sk-container-id-1 div.sk-text-repr-fallback {display: none;}</style><div id=\"sk-container-id-1\" class=\"sk-top-container\"><div class=\"sk-text-repr-fallback\"><pre>CountVectorizer(analyzer=&lt;function text_process at 0x7fdeb288d090&gt;)</pre><b>In a Jupyter environment, please rerun this cell to show the HTML representation or trust the notebook. <br />On GitHub, the HTML representation is unable to render, please try loading this page with nbviewer.org.</b></div><div class=\"sk-container\" hidden><div class=\"sk-item\"><div class=\"sk-estimator sk-toggleable\"><input class=\"sk-toggleable__control sk-hidden--visually\" id=\"sk-estimator-id-1\" type=\"checkbox\" checked><label for=\"sk-estimator-id-1\" class=\"sk-toggleable__label sk-toggleable__label-arrow\">CountVectorizer</label><div class=\"sk-toggleable__content\"><pre>CountVectorizer(analyzer=&lt;function text_process at 0x7fdeb288d090&gt;)</pre></div></div></div></div></div>"
      ],
      "text/plain": [
       "CountVectorizer(analyzer=<function text_process at 0x7fdeb288d090>)"
      ]
     },
     "execution_count": 73,
     "metadata": {},
     "output_type": "execute_result"
    }
   ],
   "source": [
    "# This is the bag of words transformer, it takes all the words and makes the matrix above. The analyzer is basically our\n",
    "#function that cleans the stopwords and puntuation\n",
    "bow_transformer = CountVectorizer(analyzer=text_process)\n",
    "#We fit our bag of words 'model using the data we already have from the reviews'\n",
    "bow_transformer.fit(yelp_df['text'])"
   ]
  },
  {
   "cell_type": "code",
   "execution_count": 74,
   "id": "4e52af5a-1b6a-4332-ac17-3685ab142a3d",
   "metadata": {},
   "outputs": [
    {
     "name": "stdout",
     "output_type": "stream",
     "text": [
      "44012\n"
     ]
    }
   ],
   "source": [
    "#Its important to note that CountVectorizer takes all the unique words, so no repetition. Which is necessary for the\n",
    "#creation of the sparse matrix above.\n",
    "print(len(bow_transformer.vocabulary_))\n",
    "#We can observe the amount of unique words (tokens)"
   ]
  },
  {
   "cell_type": "code",
   "execution_count": 90,
   "id": "1b2f71d6-2862-461b-9a95-d480a21b3790",
   "metadata": {},
   "outputs": [
    {
     "name": "stdout",
     "output_type": "stream",
     "text": [
      "  (0, 26830)\t1\n",
      "  (0, 43619)\t2\n"
     ]
    }
   ],
   "source": [
    "#lets experiment using a string \n",
    "x = 'hello world! The world'\n",
    "x_bow = bow_transformer.transform([x])\n",
    "print(x_bow)"
   ]
  },
  {
   "cell_type": "code",
   "execution_count": 81,
   "id": "679e8f3e-fa9c-4a4c-a8de-0bb4b059fe04",
   "metadata": {},
   "outputs": [
    {
     "name": "stdout",
     "output_type": "stream",
     "text": [
      "world , hello\n"
     ]
    }
   ],
   "source": [
    "print(bow_transformer.get_feature_names_out()[43619], ',',bow_transformer.get_feature_names_out()[26830])"
   ]
  },
  {
   "cell_type": "markdown",
   "id": "ee136f90-d952-4a2d-ad5e-fba92c5c4166",
   "metadata": {},
   "source": [
    "What does this means? the zero simply meand that its the first segment (there is only one segment in this example), the second number is the token number identification of our bag of words (which we fitted using the yelp review dataset). So our Bag of words outputs the vector's values of the sparse matrix. \n",
    "\n",
    "It cannot give the matrix entirely, or in this case the vector entirely because it will be an unnecessary amount of zero values in that vector!"
   ]
  },
  {
   "cell_type": "code",
   "execution_count": 82,
   "id": "2e3411a3-eaf4-4e97-8549-96ad7ef4e8a6",
   "metadata": {},
   "outputs": [],
   "source": [
    "#Now lets do it with all of our dataset\n",
    "reviews_bow_matrix = bow_transformer.transform(yelp_df['text'])"
   ]
  },
  {
   "cell_type": "code",
   "execution_count": 83,
   "id": "4ff8a57a-4c93-467f-8dee-e6e85f7c62ac",
   "metadata": {},
   "outputs": [
    {
     "name": "stdout",
     "output_type": "stream",
     "text": [
      "Shape of Sparse Matrix:  (10000, 44012)\n",
      "Amount of Non-Zero occurences:  583230\n",
      "Amount of cells in matrix:  440120000\n"
     ]
    }
   ],
   "source": [
    "#shape of matrix, amount of times of non-zeros values in that matrix, and number of datapoints in matrix\n",
    "print('Shape of Sparse Matrix: ', reviews_bow_matrix.shape)\n",
    "print('Amount of Non-Zero occurences: ', reviews_bow_matrix.nnz)\n",
    "print('Amount of cells in matrix: ', (reviews_bow_matrix.shape[0] * reviews_bow_matrix.shape[1]))"
   ]
  },
  {
   "cell_type": "code",
   "execution_count": 84,
   "id": "aa52583b-53fe-4782-ba15-83d079f91b17",
   "metadata": {},
   "outputs": [
    {
     "name": "stdout",
     "output_type": "stream",
     "text": [
      "sparsity: 0.13251613196400983\n"
     ]
    }
   ],
   "source": [
    "#ITS ALWAYS GOOD TO CHECK SPARSITY SINCE WE USE SPARSE MATRIX AND NOT NORMAL MATRIX\n",
    "sparsity = (100.0 * reviews_bow_matrix.nnz / (reviews_bow_matrix.shape[0] * reviews_bow_matrix.shape[1]))\n",
    "print('sparsity: {}'.format(sparsity))"
   ]
  },
  {
   "cell_type": "markdown",
   "id": "d4faf34e-8d77-4d64-a1d4-f17c81aef265",
   "metadata": {},
   "source": [
    "Now that we have the sparse matrix for our entire dataset. We can give a weight to every token. That will give the importance of that word, given our training of our model, I will use the TF-IDF weight. This weight is a statistical measure used to evaluate how important a word is to a document in a collection or corpus. The importance increases proportionally to the number of times a word appears in the document but is offset by the frequency of the word in the corpus. "
   ]
  },
  {
   "cell_type": "code",
   "execution_count": 86,
   "id": "b63479e1-c973-495e-923d-ec1f652f2882",
   "metadata": {},
   "outputs": [],
   "source": [
    "from sklearn.feature_extraction.text import TfidfTransformer"
   ]
  },
  {
   "cell_type": "code",
   "execution_count": 87,
   "id": "09d19e22-2a98-4a08-a7de-2036c031613e",
   "metadata": {},
   "outputs": [
    {
     "data": {
      "text/html": [
       "<style>#sk-container-id-2 {color: black;background-color: white;}#sk-container-id-2 pre{padding: 0;}#sk-container-id-2 div.sk-toggleable {background-color: white;}#sk-container-id-2 label.sk-toggleable__label {cursor: pointer;display: block;width: 100%;margin-bottom: 0;padding: 0.3em;box-sizing: border-box;text-align: center;}#sk-container-id-2 label.sk-toggleable__label-arrow:before {content: \"▸\";float: left;margin-right: 0.25em;color: #696969;}#sk-container-id-2 label.sk-toggleable__label-arrow:hover:before {color: black;}#sk-container-id-2 div.sk-estimator:hover label.sk-toggleable__label-arrow:before {color: black;}#sk-container-id-2 div.sk-toggleable__content {max-height: 0;max-width: 0;overflow: hidden;text-align: left;background-color: #f0f8ff;}#sk-container-id-2 div.sk-toggleable__content pre {margin: 0.2em;color: black;border-radius: 0.25em;background-color: #f0f8ff;}#sk-container-id-2 input.sk-toggleable__control:checked~div.sk-toggleable__content {max-height: 200px;max-width: 100%;overflow: auto;}#sk-container-id-2 input.sk-toggleable__control:checked~label.sk-toggleable__label-arrow:before {content: \"▾\";}#sk-container-id-2 div.sk-estimator input.sk-toggleable__control:checked~label.sk-toggleable__label {background-color: #d4ebff;}#sk-container-id-2 div.sk-label input.sk-toggleable__control:checked~label.sk-toggleable__label {background-color: #d4ebff;}#sk-container-id-2 input.sk-hidden--visually {border: 0;clip: rect(1px 1px 1px 1px);clip: rect(1px, 1px, 1px, 1px);height: 1px;margin: -1px;overflow: hidden;padding: 0;position: absolute;width: 1px;}#sk-container-id-2 div.sk-estimator {font-family: monospace;background-color: #f0f8ff;border: 1px dotted black;border-radius: 0.25em;box-sizing: border-box;margin-bottom: 0.5em;}#sk-container-id-2 div.sk-estimator:hover {background-color: #d4ebff;}#sk-container-id-2 div.sk-parallel-item::after {content: \"\";width: 100%;border-bottom: 1px solid gray;flex-grow: 1;}#sk-container-id-2 div.sk-label:hover label.sk-toggleable__label {background-color: #d4ebff;}#sk-container-id-2 div.sk-serial::before {content: \"\";position: absolute;border-left: 1px solid gray;box-sizing: border-box;top: 0;bottom: 0;left: 50%;z-index: 0;}#sk-container-id-2 div.sk-serial {display: flex;flex-direction: column;align-items: center;background-color: white;padding-right: 0.2em;padding-left: 0.2em;position: relative;}#sk-container-id-2 div.sk-item {position: relative;z-index: 1;}#sk-container-id-2 div.sk-parallel {display: flex;align-items: stretch;justify-content: center;background-color: white;position: relative;}#sk-container-id-2 div.sk-item::before, #sk-container-id-2 div.sk-parallel-item::before {content: \"\";position: absolute;border-left: 1px solid gray;box-sizing: border-box;top: 0;bottom: 0;left: 50%;z-index: -1;}#sk-container-id-2 div.sk-parallel-item {display: flex;flex-direction: column;z-index: 1;position: relative;background-color: white;}#sk-container-id-2 div.sk-parallel-item:first-child::after {align-self: flex-end;width: 50%;}#sk-container-id-2 div.sk-parallel-item:last-child::after {align-self: flex-start;width: 50%;}#sk-container-id-2 div.sk-parallel-item:only-child::after {width: 0;}#sk-container-id-2 div.sk-dashed-wrapped {border: 1px dashed gray;margin: 0 0.4em 0.5em 0.4em;box-sizing: border-box;padding-bottom: 0.4em;background-color: white;}#sk-container-id-2 div.sk-label label {font-family: monospace;font-weight: bold;display: inline-block;line-height: 1.2em;}#sk-container-id-2 div.sk-label-container {text-align: center;}#sk-container-id-2 div.sk-container {/* jupyter's `normalize.less` sets `[hidden] { display: none; }` but bootstrap.min.css set `[hidden] { display: none !important; }` so we also need the `!important` here to be able to override the default hidden behavior on the sphinx rendered scikit-learn.org. See: https://github.com/scikit-learn/scikit-learn/issues/21755 */display: inline-block !important;position: relative;}#sk-container-id-2 div.sk-text-repr-fallback {display: none;}</style><div id=\"sk-container-id-2\" class=\"sk-top-container\"><div class=\"sk-text-repr-fallback\"><pre>TfidfTransformer()</pre><b>In a Jupyter environment, please rerun this cell to show the HTML representation or trust the notebook. <br />On GitHub, the HTML representation is unable to render, please try loading this page with nbviewer.org.</b></div><div class=\"sk-container\" hidden><div class=\"sk-item\"><div class=\"sk-estimator sk-toggleable\"><input class=\"sk-toggleable__control sk-hidden--visually\" id=\"sk-estimator-id-2\" type=\"checkbox\" checked><label for=\"sk-estimator-id-2\" class=\"sk-toggleable__label sk-toggleable__label-arrow\">TfidfTransformer</label><div class=\"sk-toggleable__content\"><pre>TfidfTransformer()</pre></div></div></div></div></div>"
      ],
      "text/plain": [
       "TfidfTransformer()"
      ]
     },
     "execution_count": 87,
     "metadata": {},
     "output_type": "execute_result"
    }
   ],
   "source": [
    "#So practically, its the same concept than the sparse matrix, but instead of a matrix of 0s and 1s. I will have\n",
    "#A matrix of the weighted TF-IDF values for every single token between 0-1. \n",
    "tfidf_transformer = TfidfTransformer()\n",
    "tfidf_transformer.fit(reviews_bow_matrix)"
   ]
  },
  {
   "cell_type": "code",
   "execution_count": 95,
   "id": "67494570-3041-441a-87b6-881bfe3bc058",
   "metadata": {},
   "outputs": [
    {
     "name": "stdout",
     "output_type": "stream",
     "text": [
      "  (0, 43619)\t0.8380182870618437\n",
      "  (0, 26830)\t0.5456421451372074\n"
     ]
    }
   ],
   "source": [
    "#Lets try again with our example string from before\n",
    "\n",
    "print(tfidf_transformer.transform(x_bow))"
   ]
  },
  {
   "cell_type": "code",
   "execution_count": 94,
   "id": "dee012c6-6e86-47e8-9e9a-e4facf7d86ed",
   "metadata": {},
   "outputs": [
    {
     "name": "stdout",
     "output_type": "stream",
     "text": [
      "6.655092305487102\n",
      "5.110573939152317\n"
     ]
    }
   ],
   "source": [
    "#Just taking the idf of those two words\n",
    "print(tfidf_transformer.idf_[bow_transformer.vocabulary_['hello']])\n",
    "print(tfidf_transformer.idf_[bow_transformer.vocabulary_['world']])"
   ]
  },
  {
   "cell_type": "code",
   "execution_count": 97,
   "id": "82d8d26a-cab5-457c-9a04-b5fbdbd75048",
   "metadata": {},
   "outputs": [
    {
     "name": "stdout",
     "output_type": "stream",
     "text": [
      "(10000, 44012)\n"
     ]
    }
   ],
   "source": [
    "#Doing all the weights for the entire dataset\n",
    "reviews_tfidf = tfidf_transformer.transform(reviews_bow_matrix)\n",
    "print(reviews_tfidf.shape)"
   ]
  },
  {
   "cell_type": "markdown",
   "id": "faec812d-161f-45e6-969f-d973b6cbf427",
   "metadata": {},
   "source": [
    "I believe a problem with this project is that we are using the transform function (creating the weighted values), for our same parse matrix that we used to fit this same model. Is this something bad like when using linear regression? I am not sure, since NLP are not the same. Maybe it will cause an overfitting bias issue."
   ]
  },
  {
   "cell_type": "code",
   "execution_count": 113,
   "id": "b353628a-44b7-43e0-b5f1-c8943bda62f2",
   "metadata": {},
   "outputs": [
    {
     "name": "stdout",
     "output_type": "stream",
     "text": [
      "(10000, 44012) (10000, 44012)\n"
     ]
    }
   ],
   "source": [
    "print(reviews_bow_matrix.shape, reviews_tfidf.shape)\n",
    "#We can observe that both are matrices "
   ]
  },
  {
   "cell_type": "code",
   "execution_count": 112,
   "id": "03dfcac0-710c-482a-8e37-a75f0fb492e8",
   "metadata": {
    "scrolled": true
   },
   "outputs": [
    {
     "name": "stdout",
     "output_type": "stream",
     "text": [
      "  (0, 417)\t1\n",
      "  (0, 1759)\t1\n",
      "  (0, 2614)\t1\n",
      "  (0, 5093)\t1\n",
      "  (0, 7275)\t1\n",
      "  (0, 7452)\t2\n",
      "  (0, 8904)\t1\n",
      "  (0, 12129)\t1\n",
      "  (0, 15180)\t1\n",
      "  (0, 15181)\t1\n",
      "  (0, 15823)\t2\n",
      "  (0, 16295)\t1\n",
      "  (0, 16708)\t1\n",
      "  (0, 17324)\t2\n",
      "  (0, 17345)\t1\n",
      "  (0, 17469)\t1\n",
      "  (0, 17587)\t1\n",
      "  (0, 17981)\t1\n",
      "  (0, 18005)\t1\n",
      "  (0, 18618)\t1\n",
      "  (0, 18682)\t1\n",
      "  (0, 20145)\t1\n",
      "  (0, 21684)\t1\n",
      "  (0, 22947)\t1\n",
      "  (0, 23100)\t1\n",
      "  :\t:\n",
      "  (9999, 24090)\t1\n",
      "  (9999, 24185)\t1\n",
      "  (9999, 24500)\t1\n",
      "  (9999, 25090)\t1\n",
      "  (9999, 26084)\t1\n",
      "  (9999, 28034)\t1\n",
      "  (9999, 29071)\t1\n",
      "  (9999, 29321)\t1\n",
      "  (9999, 29601)\t1\n",
      "  (9999, 29696)\t1\n",
      "  (9999, 30076)\t1\n",
      "  (9999, 30831)\t1\n",
      "  (9999, 30904)\t1\n",
      "  (9999, 32516)\t1\n",
      "  (9999, 33160)\t1\n",
      "  (9999, 33830)\t1\n",
      "  (9999, 35353)\t1\n",
      "  (9999, 36829)\t1\n",
      "  (9999, 37303)\t1\n",
      "  (9999, 37415)\t1\n",
      "  (9999, 39117)\t1\n",
      "  (9999, 39980)\t1\n",
      "  (9999, 40743)\t2\n",
      "  (9999, 41162)\t1\n",
      "  (9999, 42757)\t1   (0, 43372)\t0.10061796815701333\n",
      "  (0, 43309)\t0.09977376195644932\n",
      "  (0, 43043)\t0.123163159175355\n",
      "  (0, 42783)\t0.09510575576589626\n",
      "  (0, 42757)\t0.07359933022322557\n",
      "  (0, 42436)\t0.132229238600908\n",
      "  (0, 42281)\t0.08905467260729817\n",
      "  (0, 41552)\t0.1474698410691869\n",
      "  (0, 41140)\t0.0808182020877492\n",
      "  (0, 41022)\t0.11662873031753392\n",
      "  (0, 40310)\t0.07812263053710283\n",
      "  (0, 39858)\t0.07166269576506962\n",
      "  (0, 38053)\t0.15468382853512405\n",
      "  (0, 38000)\t0.10131811420754211\n",
      "  (0, 37932)\t0.11422492787760768\n",
      "  (0, 37310)\t0.2040514083595854\n",
      "  (0, 37071)\t0.15578356022922807\n",
      "  (0, 35081)\t0.2028145244516126\n",
      "  (0, 34511)\t0.1284030790911438\n",
      "  (0, 33995)\t0.13378920406817482\n",
      "  (0, 33861)\t0.03972226927555574\n",
      "  (0, 33701)\t0.10781474159753547\n",
      "  (0, 33601)\t0.13419759865415073\n",
      "  (0, 33471)\t0.08554265754662659\n",
      "  (0, 32793)\t0.16563596439076647\n",
      "  :\t:\n",
      "  (9999, 28034)\t0.11709874761992947\n",
      "  (9999, 26084)\t0.054442652254207975\n",
      "  (9999, 25090)\t0.08459774416420754\n",
      "  (9999, 24500)\t0.13758620681869588\n",
      "  (9999, 24185)\t0.08866825646124492\n",
      "  (9999, 24090)\t0.10500007597820735\n",
      "  (9999, 22799)\t0.1968073390424647\n",
      "  (9999, 20530)\t0.28536608613320325\n",
      "  (9999, 19429)\t0.11572121799253415\n",
      "  (9999, 19403)\t0.10839455762242703\n",
      "  (9999, 17720)\t0.15139873219785047\n",
      "  (9999, 16612)\t0.11610707959349194\n",
      "  (9999, 15785)\t0.23686234535275302\n",
      "  (9999, 15362)\t0.17718454756924765\n",
      "  (9999, 14004)\t0.1476772499949509\n",
      "  (9999, 12883)\t0.20236084085010697\n",
      "  (9999, 12875)\t0.15139873219785047\n",
      "  (9999, 10768)\t0.13735682662606136\n",
      "  (9999, 8379)\t0.2140580912937877\n",
      "  (9999, 7435)\t0.12827540229758624\n",
      "  (9999, 2153)\t0.17501904542252897\n",
      "  (9999, 1841)\t0.11534124763902359\n",
      "  (9999, 872)\t0.20952054992517496\n",
      "  (9999, 768)\t0.27425908251791864\n",
      "  (9999, 588)\t0.1218802867735467\n"
     ]
    }
   ],
   "source": [
    "#We can also see that when we print the matrix it only gives the values that are non-zero. \n",
    "print(reviews_bow_matrix, reviews_tfidf)"
   ]
  },
  {
   "cell_type": "markdown",
   "id": "751e5c24-2ed7-492e-8f1e-4fa99c5336b7",
   "metadata": {},
   "source": [
    "So far we have TWO sparse matrices. One for the count of tokens, and another with the weight of tokens."
   ]
  },
  {
   "cell_type": "markdown",
   "id": "730e07f9-bf56-4421-bd96-a15857315000",
   "metadata": {},
   "source": [
    "**Now I will train the model using BAYES NAIVE to do the classification of the dataframe given our dataset. To determine which\n",
    "star its every review. I will separate dataset in train/test. Then used my classification model to test the data. Finally, I will Evaluate the model of my prediction compared to Actual values!**"
   ]
  },
  {
   "cell_type": "code",
   "execution_count": 115,
   "id": "dc4eb4f1-16b4-4e22-8a4f-4c89da982af9",
   "metadata": {},
   "outputs": [],
   "source": [
    "from sklearn.naive_bayes import MultinomialNB"
   ]
  },
  {
   "cell_type": "code",
   "execution_count": 119,
   "id": "97b13288-d25f-477d-946b-6f2bc6c7bb8e",
   "metadata": {},
   "outputs": [
    {
     "data": {
      "text/html": [
       "<style>#sk-container-id-3 {color: black;background-color: white;}#sk-container-id-3 pre{padding: 0;}#sk-container-id-3 div.sk-toggleable {background-color: white;}#sk-container-id-3 label.sk-toggleable__label {cursor: pointer;display: block;width: 100%;margin-bottom: 0;padding: 0.3em;box-sizing: border-box;text-align: center;}#sk-container-id-3 label.sk-toggleable__label-arrow:before {content: \"▸\";float: left;margin-right: 0.25em;color: #696969;}#sk-container-id-3 label.sk-toggleable__label-arrow:hover:before {color: black;}#sk-container-id-3 div.sk-estimator:hover label.sk-toggleable__label-arrow:before {color: black;}#sk-container-id-3 div.sk-toggleable__content {max-height: 0;max-width: 0;overflow: hidden;text-align: left;background-color: #f0f8ff;}#sk-container-id-3 div.sk-toggleable__content pre {margin: 0.2em;color: black;border-radius: 0.25em;background-color: #f0f8ff;}#sk-container-id-3 input.sk-toggleable__control:checked~div.sk-toggleable__content {max-height: 200px;max-width: 100%;overflow: auto;}#sk-container-id-3 input.sk-toggleable__control:checked~label.sk-toggleable__label-arrow:before {content: \"▾\";}#sk-container-id-3 div.sk-estimator input.sk-toggleable__control:checked~label.sk-toggleable__label {background-color: #d4ebff;}#sk-container-id-3 div.sk-label input.sk-toggleable__control:checked~label.sk-toggleable__label {background-color: #d4ebff;}#sk-container-id-3 input.sk-hidden--visually {border: 0;clip: rect(1px 1px 1px 1px);clip: rect(1px, 1px, 1px, 1px);height: 1px;margin: -1px;overflow: hidden;padding: 0;position: absolute;width: 1px;}#sk-container-id-3 div.sk-estimator {font-family: monospace;background-color: #f0f8ff;border: 1px dotted black;border-radius: 0.25em;box-sizing: border-box;margin-bottom: 0.5em;}#sk-container-id-3 div.sk-estimator:hover {background-color: #d4ebff;}#sk-container-id-3 div.sk-parallel-item::after {content: \"\";width: 100%;border-bottom: 1px solid gray;flex-grow: 1;}#sk-container-id-3 div.sk-label:hover label.sk-toggleable__label {background-color: #d4ebff;}#sk-container-id-3 div.sk-serial::before {content: \"\";position: absolute;border-left: 1px solid gray;box-sizing: border-box;top: 0;bottom: 0;left: 50%;z-index: 0;}#sk-container-id-3 div.sk-serial {display: flex;flex-direction: column;align-items: center;background-color: white;padding-right: 0.2em;padding-left: 0.2em;position: relative;}#sk-container-id-3 div.sk-item {position: relative;z-index: 1;}#sk-container-id-3 div.sk-parallel {display: flex;align-items: stretch;justify-content: center;background-color: white;position: relative;}#sk-container-id-3 div.sk-item::before, #sk-container-id-3 div.sk-parallel-item::before {content: \"\";position: absolute;border-left: 1px solid gray;box-sizing: border-box;top: 0;bottom: 0;left: 50%;z-index: -1;}#sk-container-id-3 div.sk-parallel-item {display: flex;flex-direction: column;z-index: 1;position: relative;background-color: white;}#sk-container-id-3 div.sk-parallel-item:first-child::after {align-self: flex-end;width: 50%;}#sk-container-id-3 div.sk-parallel-item:last-child::after {align-self: flex-start;width: 50%;}#sk-container-id-3 div.sk-parallel-item:only-child::after {width: 0;}#sk-container-id-3 div.sk-dashed-wrapped {border: 1px dashed gray;margin: 0 0.4em 0.5em 0.4em;box-sizing: border-box;padding-bottom: 0.4em;background-color: white;}#sk-container-id-3 div.sk-label label {font-family: monospace;font-weight: bold;display: inline-block;line-height: 1.2em;}#sk-container-id-3 div.sk-label-container {text-align: center;}#sk-container-id-3 div.sk-container {/* jupyter's `normalize.less` sets `[hidden] { display: none; }` but bootstrap.min.css set `[hidden] { display: none !important; }` so we also need the `!important` here to be able to override the default hidden behavior on the sphinx rendered scikit-learn.org. See: https://github.com/scikit-learn/scikit-learn/issues/21755 */display: inline-block !important;position: relative;}#sk-container-id-3 div.sk-text-repr-fallback {display: none;}</style><div id=\"sk-container-id-3\" class=\"sk-top-container\"><div class=\"sk-text-repr-fallback\"><pre>MultinomialNB()</pre><b>In a Jupyter environment, please rerun this cell to show the HTML representation or trust the notebook. <br />On GitHub, the HTML representation is unable to render, please try loading this page with nbviewer.org.</b></div><div class=\"sk-container\" hidden><div class=\"sk-item\"><div class=\"sk-estimator sk-toggleable\"><input class=\"sk-toggleable__control sk-hidden--visually\" id=\"sk-estimator-id-3\" type=\"checkbox\" checked><label for=\"sk-estimator-id-3\" class=\"sk-toggleable__label sk-toggleable__label-arrow\">MultinomialNB</label><div class=\"sk-toggleable__content\"><pre>MultinomialNB()</pre></div></div></div></div></div>"
      ],
      "text/plain": [
       "MultinomialNB()"
      ]
     },
     "execution_count": 119,
     "metadata": {},
     "output_type": "execute_result"
    }
   ],
   "source": [
    "star_classification_model = MultinomialNB()\n",
    "star_classification_model.fit(reviews_tfidf, yelp_df['stars'])"
   ]
  },
  {
   "cell_type": "markdown",
   "id": "355ccdb9-7b26-458e-877e-9e18db274e5a",
   "metadata": {},
   "source": [
    "#Okay so whats happening right here? Basically every single review is an observation in the training of the model. Every token is considered a x-value of the data. Every unique word is basically a Xi. \n",
    "The classification output of our training is the column of stars in yelp_df. "
   ]
  },
  {
   "cell_type": "code",
   "execution_count": 140,
   "id": "32ad03d7-99aa-416d-8b0d-3a52772449cf",
   "metadata": {},
   "outputs": [
    {
     "name": "stdout",
     "output_type": "stream",
     "text": [
      "predicted: 4\n",
      "expected: 4\n"
     ]
    }
   ],
   "source": [
    "#Okay lets try a random review and classify to see if its accurate:\n",
    "x = yelp_df['text'][100]\n",
    "x_bow = bow_transformer.transform([x])\n",
    "x_tfidf = tfidf_transformer.transform(x_bow)\n",
    "\n",
    "print('predicted:',star_classification_model.predict(x_tfidf)[0])\n",
    "print('expected:', yelp_df.stars[100])"
   ]
  },
  {
   "cell_type": "markdown",
   "id": "4aaed25d-c3ab-4d30-b1dd-1ccc0e8fcdef",
   "metadata": {},
   "source": [
    "NICE EVERYTHING SEEMS PERFECT!!"
   ]
  },
  {
   "cell_type": "code",
   "execution_count": null,
   "id": "64bd70e7-b65a-4ba9-b401-59d1d8b35efc",
   "metadata": {},
   "outputs": [],
   "source": []
  },
  {
   "cell_type": "code",
   "execution_count": 168,
   "id": "e6b2795c-990d-4620-9b50-1f04ce93dda1",
   "metadata": {},
   "outputs": [
    {
     "data": {
      "text/plain": [
       "array([5, 4, 4, 5, 5, 4, 4, 4, 4, 5, 5, 5, 4, 5, 4, 4, 4, 5, 4, 4, 4, 5,\n",
       "       5, 5, 4, 4, 5, 4, 4, 4, 4, 4, 5, 4, 4, 4, 4, 4, 4, 4, 4, 4, 4, 4,\n",
       "       4, 4, 5, 4, 4, 4, 4, 5, 4, 4, 5, 4, 4, 4, 4, 5, 4, 4, 4, 4, 4, 4,\n",
       "       5, 4, 4, 5, 4, 4, 4, 4, 5, 4, 4, 4, 4, 4, 4, 4, 5, 4, 4, 4, 5, 4,\n",
       "       5, 4, 5, 5, 4, 4, 4, 5, 4, 4, 5, 4])"
      ]
     },
     "execution_count": 168,
     "metadata": {},
     "output_type": "execute_result"
    }
   ],
   "source": [
    "#Now I want to do it with every single observation and evaluate the model! \n",
    "all_predictions = star_classification_model.predict(reviews_tfidf)\n",
    "all_predictions[:100]"
   ]
  },
  {
   "cell_type": "markdown",
   "id": "e0840770-a235-40f0-a633-2a2d2abc6923",
   "metadata": {},
   "source": [
    "Seems like something went wrong with the fitting of the BAYES NAIVE model, since the only predictions its actually making is 5 stars or 4 stars"
   ]
  },
  {
   "cell_type": "code",
   "execution_count": null,
   "id": "87838d7e-9874-4adb-bb59-8b31e5f1e0e3",
   "metadata": {},
   "outputs": [],
   "source": []
  }
 ],
 "metadata": {
  "kernelspec": {
   "display_name": "Python 3 (ipykernel)",
   "language": "python",
   "name": "python3"
  },
  "language_info": {
   "codemirror_mode": {
    "name": "ipython",
    "version": 3
   },
   "file_extension": ".py",
   "mimetype": "text/x-python",
   "name": "python",
   "nbconvert_exporter": "python",
   "pygments_lexer": "ipython3",
   "version": "3.10.11"
  }
 },
 "nbformat": 4,
 "nbformat_minor": 5
}
